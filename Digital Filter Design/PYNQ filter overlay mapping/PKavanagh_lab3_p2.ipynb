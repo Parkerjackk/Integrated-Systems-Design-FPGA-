{
 "cells": [
  {
   "cell_type": "markdown",
   "id": "339c2ab7",
   "metadata": {},
   "source": [
    "# Lab 3: FIR Filter \n",
    "In this notebook you will test your designed FIR filter on the PYNQ-Z2 board. \n",
    "\n",
    "You will need to plug headphones into your PYNQ board to hear the audio output."
   ]
  },
  {
   "cell_type": "markdown",
   "id": "ca183b0c",
   "metadata": {},
   "source": [
    "# 1: Load the Overlay"
   ]
  },
  {
   "cell_type": "code",
   "execution_count": 77,
   "id": "3735cb26",
   "metadata": {},
   "outputs": [],
   "source": [
    "import numpy as np\n",
    "from pynq import allocate\n",
    "from pynq import Overlay\n",
    "\n",
    "ol = Overlay(\"/home/xilinx/jupyter_notebooks/lab3/base_filter.bit\")"
   ]
  },
  {
   "cell_type": "markdown",
   "id": "326dc5e9",
   "metadata": {},
   "source": [
    "# 2: Play the Audio File"
   ]
  },
  {
   "cell_type": "code",
   "execution_count": 78,
   "id": "31900012",
   "metadata": {},
   "outputs": [],
   "source": [
    "dma = ol.axi_dma"
   ]
  },
  {
   "cell_type": "code",
   "execution_count": 79,
   "id": "c79f310a",
   "metadata": {},
   "outputs": [],
   "source": [
    "input_buffer = allocate(shape=(64,), dtype=np.uint32)\n",
    "output_buffer = allocate(shape=(64,), dtype=np.uint32)"
   ]
  },
  {
   "cell_type": "code",
   "execution_count": 80,
   "id": "418b1bab",
   "metadata": {},
   "outputs": [],
   "source": [
    "for i in range(64):\n",
    "   input_buffer[i] = i+10"
   ]
  },
  {
   "cell_type": "code",
   "execution_count": 81,
   "id": "eb76f99c",
   "metadata": {},
   "outputs": [],
   "source": [
    "dma.sendchannel.transfer(input_buffer)\n",
    "dma.sendchannel.wait()"
   ]
  },
  {
   "cell_type": "code",
   "execution_count": 82,
   "id": "0e42f1e0",
   "metadata": {},
   "outputs": [],
   "source": [
    "dma.recvchannel.transfer(output_buffer)\n",
    "dma.recvchannel.wait()"
   ]
  },
  {
   "cell_type": "code",
   "execution_count": 83,
   "id": "cb067eee",
   "metadata": {},
   "outputs": [
    {
     "name": "stdout",
     "output_type": "stream",
     "text": [
      "Arrays are equal: False\n"
     ]
    }
   ],
   "source": [
    "print(\"Arrays are equal: {}\".format(np.array_equal(input_buffer, output_buffer)))"
   ]
  },
  {
   "cell_type": "code",
   "execution_count": 84,
   "id": "c6e73da2",
   "metadata": {
    "scrolled": true
   },
   "outputs": [],
   "source": [
    "pynqAudio = ol.audio_codec_ctrl_0 #might use the default app, so audio items might not work here. \n",
    "\n",
    "pynqAudio.set_volume(62)"
   ]
  },
  {
   "cell_type": "code",
   "execution_count": 85,
   "id": "d1cbb2f7",
   "metadata": {},
   "outputs": [],
   "source": [
    "pynqAudio.load(\"/home/xilinx/jupyter_notebooks/base/audio/audio.wav\")\n",
    "#make a local copy of the buffer to process and manipulate\n",
    "pynqAudio_buffer = pynqAudio.buffer.copy()"
   ]
  },
  {
   "cell_type": "code",
   "execution_count": 86,
   "id": "9c5a7f86",
   "metadata": {},
   "outputs": [],
   "source": [
    "pynqAudio.configure()"
   ]
  },
  {
   "cell_type": "code",
   "execution_count": 87,
   "id": "39a2732f",
   "metadata": {},
   "outputs": [],
   "source": [
    "pynqAudio.play()"
   ]
  },
  {
   "cell_type": "code",
   "execution_count": 88,
   "id": "20b0a6c3",
   "metadata": {},
   "outputs": [
    {
     "name": "stdout",
     "output_type": "stream",
     "text": [
      "480000\n"
     ]
    }
   ],
   "source": [
    "samplelen = len(pynqAudio.buffer)\n",
    "print(samplelen)"
   ]
  },
  {
   "cell_type": "markdown",
   "id": "4ed1e88a",
   "metadata": {},
   "source": [
    "The audio signal is 2 channels, concatenated. For filtering, we need to serialise the channels - this requires reshaping the input and manipulating the outputs to achieve the required order. In this specific case, we are reshaping the input buffer, transposing and then concatenating to create the required serialised format (Alternatively, the filter could be designed for multi-channel operation - a bit more complex to manage that from Pynq). "
   ]
  },
  {
   "cell_type": "markdown",
   "id": "87a60823",
   "metadata": {},
   "source": [
    "# 3: Process the Audio"
   ]
  },
  {
   "cell_type": "markdown",
   "id": "21e24b96",
   "metadata": {},
   "source": [
    "### Get info from the audio signal\n",
    "Use the wave library to obtain the frames, number of channels, sampling rate and width of the audio."
   ]
  },
  {
   "cell_type": "code",
   "execution_count": 89,
   "id": "ee6dfd33",
   "metadata": {},
   "outputs": [],
   "source": [
    "%matplotlib inline\n",
    "import wave\n",
    "import numpy as np\n",
    "import matplotlib\n",
    "import matplotlib.pyplot as plt\n",
    "from scipy.fftpack import fft\n",
    "\n",
    "wav_path = \"/home/xilinx/jupyter_notebooks/base/audio/audio.wav\"\n",
    "with wave.open(wav_path, 'r') as wav_file:\n",
    "    raw_frames = wav_file.readframes(-1)\n",
    "    num_frames = wav_file.getnframes()\n",
    "    num_channels = wav_file.getnchannels()\n",
    "    sample_rate = wav_file.getframerate()\n",
    "    sample_width = wav_file.getsampwidth()"
   ]
  },
  {
   "cell_type": "markdown",
   "id": "b91e12e7",
   "metadata": {},
   "source": [
    "### Decode the interleaved channel data into seperate channels"
   ]
  },
  {
   "cell_type": "code",
   "execution_count": 90,
   "id": "561ea56d",
   "metadata": {},
   "outputs": [],
   "source": [
    "inbuffer = allocate(shape=(samplelen,), dtype=np.int32)\n",
    "outbuffer = allocate(shape=(samplelen,), dtype=np.int32)\n",
    "\n",
    "\n",
    "temp_buffer = np.empty((num_frames, num_channels, 4), dtype=np.uint8)\n",
    "bytes_raw = np.frombuffer(pynqAudio_buffer, dtype=np.uint8)\n",
    "\n",
    "#Decode raw interleaved channel data into each channel with 4 bytes per channel- note that the upper bytes would be '0' and not properly sign extended\n",
    "temp_buffer[:, :, :] = bytes_raw.reshape(-1, num_channels, 4) \n",
    "temp_buffer[:, :, sample_width:] = (temp_buffer[:, :, sample_width-1:sample_width] >> 7) * 255 #Sign extend the buffer\n",
    "frames = temp_buffer.view('<i4').reshape(temp_buffer.shape[:-1]) #Compose it back to int32 format (signed), little endian format\n",
    "inbuffee = np.concatenate(frames.transpose(),0) #Concatenate the two channels without interleaving\n",
    "inbuffer[:] = inbuffee[:]\n"
   ]
  },
  {
   "cell_type": "markdown",
   "id": "7f5ae9a1",
   "metadata": {},
   "source": [
    "### Check the formats are correctly aligned and sign-extended"
   ]
  },
  {
   "cell_type": "code",
   "execution_count": 91,
   "id": "7d515e58",
   "metadata": {
    "scrolled": true
   },
   "outputs": [
    {
     "name": "stdout",
     "output_type": "stream",
     "text": [
      "16759079 -18137 [-18137 -17228] [[ 39 185 255 255]\n",
      " [180 188 255 255]]\n",
      "16759988 -16288 [-16288 -17228] [[ 96 192 255 255]\n",
      " [180 188 255 255]]\n",
      "16760928 -18820 [-18820 -15814] [[124 182 255 255]\n",
      " [ 58 194 255 255]]\n",
      "16759988 -17952 [-17952 -16718] [[224 185 255 255]\n",
      " [178 190 255 255]]\n",
      "16758396 -15108 [-15108 -14742] [[252 196 255 255]\n",
      " [106 198 255 255]]\n",
      "16761402 -11888 [-11888 -11436] [[144 209 255 255]\n",
      " [ 84 211 255 255]]\n",
      "16759264 -16479 [-16479 -14577] [[161 191 255 255]\n",
      " [ 15 199 255 255]]\n",
      "16760498 -17111 [-17111 -16331] [[ 41 189 255 255]\n",
      " [ 53 192 255 255]]\n",
      "16762108 -21349 [-21349 -19321] [[155 172 255 255]\n",
      " [135 180 255 255]]\n",
      "16762474 -31152 [-31152 -24503] [[ 80 134 255 255]\n",
      " [ 73 160 255 255]]\n"
     ]
    }
   ],
   "source": [
    "for i in range(10):\n",
    "    print(pynqAudio_buffer[i], inbuffer[i], frames[i], temp_buffer[i])"
   ]
  },
  {
   "cell_type": "markdown",
   "id": "88cb90c0",
   "metadata": {},
   "source": [
    "# 4. Implement FIR Filter"
   ]
  },
  {
   "cell_type": "code",
   "execution_count": 92,
   "id": "6981494d",
   "metadata": {},
   "outputs": [],
   "source": [
    "import time\n",
    "st = time.time()\n",
    "dma.sendchannel.transfer(inbuffer)\n",
    "dma.recvchannel.transfer(outbuffer)\n",
    "dma.sendchannel.wait()\n",
    "dma.recvchannel.wait()\n",
    "et = time.time()"
   ]
  },
  {
   "cell_type": "markdown",
   "id": "d08aad9d",
   "metadata": {},
   "source": [
    "### Determine the hardware execution time"
   ]
  },
  {
   "cell_type": "code",
   "execution_count": 93,
   "id": "caa9203a",
   "metadata": {
    "scrolled": true
   },
   "outputs": [
    {
     "name": "stdout",
     "output_type": "stream",
     "text": [
      "Hardware Execution time is:  0.33787083625793457\n"
     ]
    }
   ],
   "source": [
    "hw_exec_time = et - st\n",
    "print(\"Hardware Execution time is: \",hw_exec_time)"
   ]
  },
  {
   "cell_type": "markdown",
   "id": "f10e58b9",
   "metadata": {},
   "source": [
    "### Remap to 2-channel audio format"
   ]
  },
  {
   "cell_type": "code",
   "execution_count": 47,
   "id": "7500dfbb",
   "metadata": {},
   "outputs": [
    {
     "data": {
      "text/plain": [
       "480000"
      ]
     },
     "execution_count": 47,
     "metadata": {},
     "output_type": "execute_result"
    }
   ],
   "source": [
    "len(outbuffer)"
   ]
  },
  {
   "cell_type": "markdown",
   "id": "34e8fc00",
   "metadata": {},
   "source": [
    "The received buffer is in concatenated format and hence need to be remapped to the two channel audio format. Hence, the reorganisation in the reverse order - split, transpose and concatenate. "
   ]
  },
  {
   "cell_type": "code",
   "execution_count": 48,
   "id": "48ec228c",
   "metadata": {},
   "outputs": [],
   "source": [
    "outbuff_ser = np.split(outbuffer,2)\n",
    "outbuff_trans = np.transpose(outbuff_ser)\n",
    "outbuff_fin = np.concatenate(outbuff_trans)\n"
   ]
  },
  {
   "cell_type": "markdown",
   "id": "fc579545",
   "metadata": {},
   "source": [
    "### Play the filter output"
   ]
  },
  {
   "cell_type": "code",
   "execution_count": 49,
   "id": "6e52db52",
   "metadata": {},
   "outputs": [],
   "source": [
    "pynqAudio.buffer = outbuff_fin.copy()\n",
    "pynqAudio.play()"
   ]
  },
  {
   "cell_type": "markdown",
   "id": "afd8567d",
   "metadata": {},
   "source": [
    "## 5: Plot the Audio"
   ]
  },
  {
   "cell_type": "markdown",
   "id": "31a36013",
   "metadata": {},
   "source": [
    "Now we can plot the two to see how they function. Recall that we had read the wave file using the wave library and ''raw_frames'' contains the raw data from the wavefile; We do the same processing as before to ensure the waveform is sign-extended and deinterleaved into separate channels."
   ]
  },
  {
   "cell_type": "markdown",
   "id": "b10ff3d8",
   "metadata": {},
   "source": [
    "### Decode interleaved channel data into each channel"
   ]
  },
  {
   "cell_type": "code",
   "execution_count": 50,
   "id": "bf569cb8",
   "metadata": {},
   "outputs": [
    {
     "name": "stdout",
     "output_type": "stream",
     "text": [
      "(240000, 2, 4)\n"
     ]
    }
   ],
   "source": [
    "temp_buffer = np.empty((num_frames, num_channels, 4), dtype=np.uint8)\n",
    "raw_bytes = np.frombuffer(raw_frames, dtype=np.uint8)\n",
    "temp_buffer[:, :, :sample_width] = raw_bytes.reshape(-1, num_channels, \n",
    "                                                    sample_width)\n",
    "temp_buffer[:, :, sample_width:] = \\\n",
    "    (temp_buffer[:, :, sample_width-1:sample_width] >> 7) * 255\n",
    "\n",
    "frames = temp_buffer.view('<i4').reshape(temp_buffer.shape[:-1])\n",
    "print(np.shape(temp_buffer))"
   ]
  },
  {
   "cell_type": "markdown",
   "id": "5953abc9",
   "metadata": {},
   "source": [
    "### Plot the original audio from the 2 channels"
   ]
  },
  {
   "cell_type": "code",
   "execution_count": 51,
   "id": "b3384e56",
   "metadata": {},
   "outputs": [
    {
     "data": {
      "image/png": "[encoded data removed]",
      "text/plain": [
       "<Figure size 1080x216 with 1 Axes>"
      ]
     },
     "metadata": {
      "needs_background": "light"
     },
     "output_type": "display_data"
    },
    {
     "data": {
      "image/png": "[encoded data removed]",
      "text/plain": [
       "<Figure size 1080x216 with 1 Axes>"
      ]
     },
     "metadata": {
      "needs_background": "light"
     },
     "output_type": "display_data"
    }
   ],
   "source": [
    "for channel_index in range(num_channels):\n",
    "    plt.figure(num=None, figsize=(15, 3))\n",
    "    plt.title('Audio in Time Domain (Channel {})'.format(channel_index))\n",
    "    plt.xlabel('Time in s')\n",
    "    plt.ylabel('Amplitude')\n",
    "    time_axis = np.arange(0, num_frames/sample_rate, 1/sample_rate)\n",
    "    plt.plot(time_axis, frames[:, channel_index])\n",
    "    plt.show()"
   ]
  },
  {
   "cell_type": "markdown",
   "id": "26cf57b0",
   "metadata": {},
   "source": [
    "### Compare Filtered Signal with Original Audio"
   ]
  },
  {
   "cell_type": "markdown",
   "id": "673f3356",
   "metadata": {},
   "source": [
    "Now let us compare against the hardware output"
   ]
  },
  {
   "cell_type": "code",
   "execution_count": 65,
   "id": "4b966059",
   "metadata": {},
   "outputs": [],
   "source": [
    "temp_out = np.empty((num_frames, num_channels, 4), dtype=np.uint8)\n",
    "raw_out = np.frombuffer(outbuff_fin, dtype=np.uint8)\n",
    "temp_out[:, :, :] = raw_out.reshape(-1, num_channels, 4)\n",
    "frames_out = temp_out.view('<i4').reshape(temp_out.shape[:-1])"
   ]
  },
  {
   "cell_type": "code",
   "execution_count": 66,
   "id": "0daa6b2b",
   "metadata": {},
   "outputs": [
    {
     "data": {
      "image/png": "[encoded data removed]",
      "text/plain": [
       "<Figure size 1080x216 with 1 Axes>"
      ]
     },
     "metadata": {
      "needs_background": "light"
     },
     "output_type": "display_data"
    },
    {
     "data": {
      "image/png": "[encoded data removed]",
      "text/plain": [
       "<Figure size 1080x216 with 1 Axes>"
      ]
     },
     "metadata": {
      "needs_background": "light"
     },
     "output_type": "display_data"
    }
   ],
   "source": [
    "for channel_index in range(num_channels):\n",
    "    plt.figure(num=None, figsize=(15, 3))\n",
    "    plt.title('Audio in Time Domain (Channel {})'.format(channel_index))\n",
    "    plt.xlabel('Time in s')\n",
    "    plt.ylabel('Amplitude')\n",
    "    time_axis = np.arange(0, num_frames/sample_rate, 1/sample_rate)\n",
    "    plt.plot(time_axis, frames_out[:, channel_index], 'y-', label=\"HW Filter\")\n",
    "    #plt.plot(time_axis, frames[:,channel_index], 'g-', label=\"Audio Input\")\n",
    "    plt.legend()\n",
    "    plt.show()"
   ]
  },
  {
   "cell_type": "markdown",
   "id": "014d91af",
   "metadata": {},
   "source": [
    "# 6: Compare to Software Execution of Filter"
   ]
  },
  {
   "cell_type": "code",
   "execution_count": 60,
   "id": "9212a0b7",
   "metadata": {},
   "outputs": [
    {
     "name": "stdout",
     "output_type": "stream",
     "text": [
      "139\n"
     ]
    }
   ],
   "source": [
    "from scipy.signal import lfilter\n",
    "coeffs = [-2304,\n",
    "-67,\n",
    "-83,\n",
    "-738,\n",
    "-1368,\n",
    "-1025,\n",
    "-1311,\n",
    "-1293,\n",
    "-1296,\n",
    "-1296,\n",
    "-1280,\n",
    "-1377,\n",
    "-1413,\n",
    "-1530,\n",
    "-1546,\n",
    "-1696,\n",
    "-824,\n",
    "-818,\n",
    "-1119,\n",
    "-232,\n",
    "-170,\n",
    "-221,\n",
    "-84,\n",
    "-549,\n",
    "-908,\n",
    "-1136,\n",
    "-1021,\n",
    "-1004,\n",
    "-1557,\n",
    "-1000,\n",
    "-824,\n",
    "-767,\n",
    "-775,\n",
    "-793,\n",
    "-835,\n",
    "-1584,\n",
    "-1313,\n",
    "-992,\n",
    "-916,\n",
    "-1084,\n",
    "129,\n",
    "476,\n",
    "634,\n",
    "569,\n",
    "261,\n",
    "-337,\n",
    "-818,\n",
    "-1983,\n",
    "-1000,\n",
    "-1247,\n",
    "-1503,\n",
    "-1792,\n",
    "-1801,\n",
    "-1871,\n",
    "-1892,\n",
    "-1817,\n",
    "-1911,\n",
    "-835,\n",
    "-1173,\n",
    "-924,\n",
    "2275,\n",
    "5146,\n",
    "8126,\n",
    "11113,\n",
    "13886,\n",
    "16462,\n",
    "18587,\n",
    "20250,\n",
    "21244,\n",
    "21549,\n",
    "21244,\n",
    "20250,\n",
    "18587,\n",
    "16462,\n",
    "13886,\n",
    "11113,\n",
    "8126,\n",
    "5146,\n",
    "2275,\n",
    "-924,\n",
    "-1173,\n",
    "-835,\n",
    "-1911,\n",
    "-1817,\n",
    "-1892,\n",
    "-1871,\n",
    "-1801,\n",
    "-1792,\n",
    "-1503,\n",
    "-1247,\n",
    "-1000,\n",
    "-1983,\n",
    "-818,\n",
    "-337,\n",
    "261,\n",
    "569,\n",
    "634,\n",
    "476,\n",
    "129,\n",
    "-1084,\n",
    "-916,\n",
    "-992,\n",
    "-1313,\n",
    "-1584,\n",
    "-835,\n",
    "-793,\n",
    "-775,\n",
    "-767,\n",
    "-824,\n",
    "-1000,\n",
    "-1557,\n",
    "-1004,\n",
    "-1021,\n",
    "-1136,\n",
    "-908,\n",
    "-549,\n",
    "-84,\n",
    "-221,\n",
    "-170,\n",
    "-232,\n",
    "-1119,\n",
    "-818,\n",
    "-824,\n",
    "-1696,\n",
    "-1546,\n",
    "-1530,\n",
    "-1413,\n",
    "-1377,\n",
    "-1280,\n",
    "-1296,\n",
    "-1296,\n",
    "-1293,\n",
    "-1311,\n",
    "-1025,\n",
    "-1368,\n",
    "-738,\n",
    "-83,\n",
    "-67,\n",
    "-2304]\n",
    "print(len(coeffs))"
   ]
  },
  {
   "cell_type": "markdown",
   "id": "88365e71",
   "metadata": {},
   "source": [
    "### Calculate software execution time"
   ]
  },
  {
   "cell_type": "code",
   "execution_count": 73,
   "id": "309d0215",
   "metadata": {},
   "outputs": [
    {
     "name": "stdout",
     "output_type": "stream",
     "text": [
      "Software execution time:  0.5449731349945068\n"
     ]
    }
   ],
   "source": [
    "st = time.time()\n",
    "swfilter = lfilter(coeffs, 128e3, inbuffer)\n",
    "et = time.time()\n",
    "sw_exec_time = et - st\n",
    "print (\"Software execution time: \", sw_exec_time)"
   ]
  },
  {
   "cell_type": "markdown",
   "id": "abce45f8",
   "metadata": {},
   "source": [
    "### Convert serial format to 2 channel format"
   ]
  },
  {
   "cell_type": "code",
   "execution_count": 62,
   "id": "64af6db3",
   "metadata": {},
   "outputs": [],
   "source": [
    "# View the output as int32 type instead of float64 inferred by lfilter\n",
    "swfilter = swfilter.astype(np.int32)\n",
    "\n",
    "# Now let us convert the serialised format back to the two channel format\n",
    "swbuff_ser = np.split(swfilter,2)\n",
    "swbuff_trans = np.transpose(swbuff_ser)\n",
    "swbuff_fin = np.concatenate(swbuff_trans)"
   ]
  },
  {
   "cell_type": "code",
   "execution_count": 63,
   "id": "e0f5bc19",
   "metadata": {},
   "outputs": [],
   "source": [
    "temp_out_sw = np.empty((num_frames, 2, 4), dtype=np.uint8)\n",
    "raw_out_sw = np.frombuffer(swbuff_fin, dtype=np.uint8)\n",
    "temp_out_sw[:, :, :] = raw_out_sw.reshape(-1, 2, 4)\n",
    "frames_out = temp_out.view('<i4').reshape(temp_out.shape[:-1])"
   ]
  },
  {
   "cell_type": "markdown",
   "id": "7598636f",
   "metadata": {},
   "source": [
    "### Plot the software implementation result"
   ]
  },
  {
   "cell_type": "code",
   "execution_count": 64,
   "id": "7676b157",
   "metadata": {},
   "outputs": [
    {
     "data": {
      "image/png": "[encoded data removed]",
      "text/plain": [
       "<Figure size 1080x216 with 1 Axes>"
      ]
     },
     "metadata": {
      "needs_background": "light"
     },
     "output_type": "display_data"
    }
   ],
   "source": [
    "plt.figure(num=None, figsize=(15, 3))\n",
    "plt.title('Audio in Time Domain (Channel {})'.format(0))\n",
    "plt.xlabel('Time in s')\n",
    "plt.ylabel('Amplitude')\n",
    "time_axis = np.arange(0, num_frames/sample_rate, 1/sample_rate)\n",
    "plt.plot(time_axis, frames_out[:,0], 'y-', label=\"SW Filter\")\n",
    "#plt.plot(time_axis, frames[:,0], 'g-', label = \"Input Audio\")\n",
    "plt.show()"
   ]
  },
  {
   "cell_type": "code",
   "execution_count": null,
   "id": "aeee78bc",
   "metadata": {},
   "outputs": [],
   "source": []
  }
 ],
 "metadata": {
  "kernelspec": {
   "display_name": "Python 3 (ipykernel)",
   "language": "python",
   "name": "python3"
  },
  "language_info": {
   "codemirror_mode": {
    "name": "ipython",
    "version": 3
   },
   "file_extension": ".py",
   "mimetype": "text/x-python",
   "name": "python",
   "nbconvert_exporter": "python",
   "pygments_lexer": "ipython3",
   "version": "3.10.4"
  }
 },
 "nbformat": 4,
 "nbformat_minor": 5
}
